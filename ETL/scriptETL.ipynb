{
 "cells": [
  {
   "cell_type": "code",
   "execution_count": 1,
   "metadata": {},
   "outputs": [],
   "source": [
    "import pandas as pd\n"
   ]
  },
  {
   "cell_type": "code",
   "execution_count": 2,
   "metadata": {},
   "outputs": [
    {
     "data": {
      "text/plain": [
       "<bound method NDFrame.head of           coluna A                coluna b coluna c  coluna d coluna e\n",
       "0     fulano silva    fulanosilva@mail.com      xyz  16:40:00        S\n",
       "1     joão pereira     emailemail@mail.com      ghk  17:00:00        S\n",
       "2  ciclano andrade      cilcano10@mail.com      ghk  16:40:00        S\n",
       "3     fulano paiva    paivafulano@mail.com      ltp  16:40:00        S\n",
       "4      marina sena     marisena10@mail.com      ghk  17:00:00        N\n",
       "5   xerox silveira  silveiraxerox@mail.com      xyz  16:40:00        S\n",
       "6  teste de e-mail       mailtest@mail.com      xyz  16:40:00        S\n",
       "7        rita lees       leesrita@mail.com      ltp  17:00:00        N\n",
       "8    fu lana teste        fu_lana@mail.com      ghk  16:40:00        S\n",
       "9   sara joana tes         tes_sj@mail.com      ltp  17:00:00        N>"
      ]
     },
     "execution_count": 2,
     "metadata": {},
     "output_type": "execute_result"
    }
   ],
   "source": [
    "df = pd.read_csv(\"lista_onibus.csv\", sep=',')\n",
    "df.head"
   ]
  },
  {
   "cell_type": "code",
   "execution_count": 3,
   "metadata": {},
   "outputs": [],
   "source": [
    "df = df.rename(columns={\"coluna A\":\"Nome\",\"coluna b\":\"Email\",\"coluna c\":\"Faculdade\",\"coluna d\":\"Horario\",\"coluna e\":\"Prioridade\"})"
   ]
  },
  {
   "cell_type": "code",
   "execution_count": 4,
   "metadata": {},
   "outputs": [],
   "source": [
    "df.loc[df[\"Faculdade\"] == \"xyz\", \"Prioridade\"] = \"S\"\n",
    "df.loc[df[\"Faculdade\"] == \"xyz\", \"Horario\"] = \"16:40:00\"\n",
    "df.loc[df[\"Faculdade\"] != \"xyz\", \"Prioridade\"] = \"N\"\n",
    "df.loc[df[\"Faculdade\"] != \"xyz\", \"Horario\"] = \"17:00:00\""
   ]
  },
  {
   "cell_type": "code",
   "execution_count": 5,
   "metadata": {},
   "outputs": [
    {
     "data": {
      "text/html": [
       "<div>\n",
       "<style scoped>\n",
       "    .dataframe tbody tr th:only-of-type {\n",
       "        vertical-align: middle;\n",
       "    }\n",
       "\n",
       "    .dataframe tbody tr th {\n",
       "        vertical-align: top;\n",
       "    }\n",
       "\n",
       "    .dataframe thead th {\n",
       "        text-align: right;\n",
       "    }\n",
       "</style>\n",
       "<table border=\"1\" class=\"dataframe\">\n",
       "  <thead>\n",
       "    <tr style=\"text-align: right;\">\n",
       "      <th></th>\n",
       "      <th>Nome</th>\n",
       "      <th>Email</th>\n",
       "      <th>Faculdade</th>\n",
       "      <th>Horario</th>\n",
       "      <th>Prioridade</th>\n",
       "    </tr>\n",
       "  </thead>\n",
       "  <tbody>\n",
       "    <tr>\n",
       "      <th>0</th>\n",
       "      <td>fulano silva</td>\n",
       "      <td>fulanosilva@mail.com</td>\n",
       "      <td>xyz</td>\n",
       "      <td>16:40:00</td>\n",
       "      <td>S</td>\n",
       "    </tr>\n",
       "    <tr>\n",
       "      <th>1</th>\n",
       "      <td>joão pereira</td>\n",
       "      <td>emailemail@mail.com</td>\n",
       "      <td>ghk</td>\n",
       "      <td>17:00:00</td>\n",
       "      <td>N</td>\n",
       "    </tr>\n",
       "    <tr>\n",
       "      <th>2</th>\n",
       "      <td>ciclano andrade</td>\n",
       "      <td>cilcano10@mail.com</td>\n",
       "      <td>ghk</td>\n",
       "      <td>17:00:00</td>\n",
       "      <td>N</td>\n",
       "    </tr>\n",
       "    <tr>\n",
       "      <th>3</th>\n",
       "      <td>fulano paiva</td>\n",
       "      <td>paivafulano@mail.com</td>\n",
       "      <td>ltp</td>\n",
       "      <td>17:00:00</td>\n",
       "      <td>N</td>\n",
       "    </tr>\n",
       "    <tr>\n",
       "      <th>4</th>\n",
       "      <td>marina sena</td>\n",
       "      <td>marisena10@mail.com</td>\n",
       "      <td>ghk</td>\n",
       "      <td>17:00:00</td>\n",
       "      <td>N</td>\n",
       "    </tr>\n",
       "    <tr>\n",
       "      <th>5</th>\n",
       "      <td>xerox silveira</td>\n",
       "      <td>silveiraxerox@mail.com</td>\n",
       "      <td>xyz</td>\n",
       "      <td>16:40:00</td>\n",
       "      <td>S</td>\n",
       "    </tr>\n",
       "    <tr>\n",
       "      <th>6</th>\n",
       "      <td>teste de e-mail</td>\n",
       "      <td>mailtest@mail.com</td>\n",
       "      <td>xyz</td>\n",
       "      <td>16:40:00</td>\n",
       "      <td>S</td>\n",
       "    </tr>\n",
       "    <tr>\n",
       "      <th>7</th>\n",
       "      <td>rita lees</td>\n",
       "      <td>leesrita@mail.com</td>\n",
       "      <td>ltp</td>\n",
       "      <td>17:00:00</td>\n",
       "      <td>N</td>\n",
       "    </tr>\n",
       "    <tr>\n",
       "      <th>8</th>\n",
       "      <td>fu lana teste</td>\n",
       "      <td>fu_lana@mail.com</td>\n",
       "      <td>ghk</td>\n",
       "      <td>17:00:00</td>\n",
       "      <td>N</td>\n",
       "    </tr>\n",
       "    <tr>\n",
       "      <th>9</th>\n",
       "      <td>sara joana tes</td>\n",
       "      <td>tes_sj@mail.com</td>\n",
       "      <td>ltp</td>\n",
       "      <td>17:00:00</td>\n",
       "      <td>N</td>\n",
       "    </tr>\n",
       "  </tbody>\n",
       "</table>\n",
       "</div>"
      ],
      "text/plain": [
       "              Nome                   Email Faculdade   Horario Prioridade\n",
       "0     fulano silva    fulanosilva@mail.com       xyz  16:40:00          S\n",
       "1     joão pereira     emailemail@mail.com       ghk  17:00:00          N\n",
       "2  ciclano andrade      cilcano10@mail.com       ghk  17:00:00          N\n",
       "3     fulano paiva    paivafulano@mail.com       ltp  17:00:00          N\n",
       "4      marina sena     marisena10@mail.com       ghk  17:00:00          N\n",
       "5   xerox silveira  silveiraxerox@mail.com       xyz  16:40:00          S\n",
       "6  teste de e-mail       mailtest@mail.com       xyz  16:40:00          S\n",
       "7        rita lees       leesrita@mail.com       ltp  17:00:00          N\n",
       "8    fu lana teste        fu_lana@mail.com       ghk  17:00:00          N\n",
       "9   sara joana tes         tes_sj@mail.com       ltp  17:00:00          N"
      ]
     },
     "execution_count": 5,
     "metadata": {},
     "output_type": "execute_result"
    }
   ],
   "source": [
    "df"
   ]
  },
  {
   "cell_type": "code",
   "execution_count": 6,
   "metadata": {},
   "outputs": [
    {
     "name": "stdout",
     "output_type": "stream",
     "text": [
      "arquivo tratado com sucessso\n"
     ]
    }
   ],
   "source": [
    "df.to_excel(\"Lista_de_onibus_tratada.xlsx\", index=False)\n",
    "print(\"arquivo tratado com sucessso\")"
   ]
  }
 ],
 "metadata": {
  "kernelspec": {
   "display_name": "Python 3",
   "language": "python",
   "name": "python3"
  },
  "language_info": {
   "codemirror_mode": {
    "name": "ipython",
    "version": 3
   },
   "file_extension": ".py",
   "mimetype": "text/x-python",
   "name": "python",
   "nbconvert_exporter": "python",
   "pygments_lexer": "ipython3",
   "version": "3.10.12"
  },
  "orig_nbformat": 4
 },
 "nbformat": 4,
 "nbformat_minor": 2
}
